{
  "nbformat": 4,
  "nbformat_minor": 0,
  "metadata": {
    "colab": {
      "provenance": []
    },
    "kernelspec": {
      "name": "python3",
      "display_name": "Python 3"
    },
    "language_info": {
      "name": "python"
    }
  },
  "cells": [
    {
      "cell_type": "markdown",
      "source": [
        "## **1. Ubah Nilai CF gejala dan amati perubahan hasil**"
      ],
      "metadata": {
        "id": "JVybfWT9BOKm"
      }
    },
    {
      "cell_type": "code",
      "execution_count": 1,
      "metadata": {
        "colab": {
          "base_uri": "https://localhost:8080/"
        },
        "id": "fB1KunM09ttf",
        "outputId": "f80c74ac-a388-4416-92d1-f08219099a12"
      },
      "outputs": [
        {
          "output_type": "stream",
          "name": "stdout",
          "text": [
            "CF diagnosis Flu: 0.82\n"
          ]
        }
      ],
      "source": [
        "gejala_user = {\n",
        "    \"demam\": 0.7,\n",
        "    \"batuk\": 0.5,\n",
        "    \"sakit_tenggorokan\": 0.6\n",
        "}\n",
        "\n",
        "pengetahuan = {\n",
        "    \"flu\": {\n",
        "        \"demam\": 0.8,\n",
        "        \"batuk\": 0.7,\n",
        "        \"sakit_tenggorokan\": 0.6\n",
        "    }\n",
        "}\n",
        "\n",
        "def hitung_cf(gejala_user, pengetahuan_pakar):\n",
        "  cf_total = 0\n",
        "  first = True\n",
        "  for gejala, cf_user in gejala_user.items():\n",
        "    if gejala in pengetahuan_pakar:\n",
        "      cf_pakar = pengetahuan_pakar[gejala]\n",
        "      cf = cf_user * cf_pakar\n",
        "      if first:\n",
        "          cf_total = cf\n",
        "          first = False\n",
        "      else:\n",
        "          cf_total = cf_total + cf * (1 - cf_total)\n",
        "  return cf_total\n",
        "\n",
        "cf_flu = hitung_cf(gejala_user, pengetahuan[\"flu\"])\n",
        "print(f\"CF diagnosis Flu: {cf_flu:.2f}\")"
      ]
    },
    {
      "cell_type": "markdown",
      "source": [
        "## **2. Tambahkan 5 gejala baru beserta nilai CF**"
      ],
      "metadata": {
        "id": "8HE0K_SCBi0S"
      }
    },
    {
      "cell_type": "code",
      "source": [
        "# Tambahkan nilai gejala baru ke gejala_user dan pengetahuan\n",
        "# Nilai CF gejala dari user\n",
        "gejala_user = {\n",
        "    \"demam\": 0.2,  # Diubah dari 0.7 menjadi 0.2 -> pengaruh gejala demam terhadap diagnosa jadi lebih kecil\n",
        "    \"batuk\": 0.5,\n",
        "    \"sakit_tenggorokan\": 0.6,\n",
        "    \"pilek\": 0.8,\n",
        "    \"sakit_kepala\": 0.6,\n",
        "    \"kelelahan\": 0.5,\n",
        "    \"nyeri_otot\": 0.4,\n",
        "    \"hidung_tersumbat\": 0.7\n",
        "}\n",
        "\n",
        "# Nilai CF dari pakar (aturan penyakit flu)\n",
        "pengetahuan = {\n",
        "    \"flu\": {\n",
        "        \"demam\": 0.8,\n",
        "        \"batuk\": 0.7,\n",
        "        \"sakit_tenggorokan\": 0.6,\n",
        "        \"pilek\": 0.9,\n",
        "        \"sakit_kepala\": 0.5,\n",
        "        \"kelelahan\": 0.6,\n",
        "        \"nyeri_otot\": 0.5,\n",
        "        \"hidung_tersumbat\": 0.7\n",
        "    }\n",
        "}\n",
        "\n",
        "# Fungsi untuk menghitung nilai Certainty Factor total\n",
        "def hitung_cf(gejala_user, pengetahuan_pakar):\n",
        "    cf_total = 0\n",
        "    first = True\n",
        "    for gejala, cf_user in gejala_user.items():\n",
        "        if gejala in pengetahuan_pakar:\n",
        "            cf_pakar = pengetahuan_pakar[gejala]\n",
        "            cf = cf_user * cf_pakar  # Mengalikan nilai kepercayaan user dan pakar\n",
        "            if first:\n",
        "                cf_total = cf  # Nilai awal\n",
        "                first = False\n",
        "            else:\n",
        "                # Kombinasi CF: cf1 + cf2 * (1 - cf1)\n",
        "                cf_total = cf_total + cf * (1 - cf_total)\n",
        "    return cf_total\n",
        "\n",
        "# Hitung CF diagnosis flu\n",
        "cf_flu = hitung_cf(gejala_user, pengetahuan[\"flu\"])\n",
        "print(f\"CF diagnosis Flu: {cf_flu:.2f}\")"
      ],
      "metadata": {
        "colab": {
          "base_uri": "https://localhost:8080/"
        },
        "id": "r6BAmSWw-QOq",
        "outputId": "4546a0fe-15ed-4b04-cf05-1097ffb7535c"
      },
      "execution_count": 5,
      "outputs": [
        {
          "output_type": "stream",
          "name": "stdout",
          "text": [
            "CF diagnosis Flu: 0.98\n"
          ]
        }
      ]
    },
    {
      "cell_type": "markdown",
      "source": [
        "## **3. Jika \"demam\" diubah jadi 0.2, bagaimana hasilnya?**"
      ],
      "metadata": {
        "id": "_9X7qhKWBtj4"
      }
    },
    {
      "cell_type": "markdown",
      "source": [
        "Penjelasan:\n",
        "Penurunan nilai \"demam\" ke 0.2 hanya berdampak kecil karena gejala-gejala lain memiliki nilai tinggi dan mendukung kuat diagnosis flu.\n",
        "CF diagnosis flu tetap tinggi, yaitu sekitar 0.98."
      ],
      "metadata": {
        "id": "BWiSUlGfCBCb"
      }
    },
    {
      "cell_type": "markdown",
      "source": [
        "## **4. Jelaskan bagaimana hasil perubahannya dalam bentuk komentar atau teks cell**"
      ],
      "metadata": {
        "id": "yyzTB0xRCK0U"
      }
    },
    {
      "cell_type": "markdown",
      "source": [
        "Penjelasan:\n",
        "\n",
        "\n",
        "*   Nilai CF diagnosis Flu masih sangat tinggi (≈ 0.98) meskipun nilai gejala \"demam\" diturunkan dari 0.7 ke 0.2.\n",
        "*   Hal ini disebabkan gejala-gejala lain (seperti pilek, batuk, dan hidung tersumbat) masih memiliki kontribusi besar terhadap total CF.\n",
        "*   Karena metode kombinasi CF bersifat akumulatif, satu gejala dengan nilai rendah tidak cukup untuk menurunkan nilai akhir secara drastis.\n"
      ],
      "metadata": {
        "id": "cgWaUTHWCQwv"
      }
    }
  ]
}